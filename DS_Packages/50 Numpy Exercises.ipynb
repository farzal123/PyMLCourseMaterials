{
 "cells": [
  {
   "cell_type": "markdown",
   "id": "0b4ed7b3-89c3-4588-9d2a-e8ebb2e7e326",
   "metadata": {},
   "source": [
    "# **50 Numpy Exercises** "
   ]
  },
  {
   "cell_type": "markdown",
   "id": "6074882a-bec6-4cff-b668-8641bd18b514",
   "metadata": {},
   "source": [
    "## Example 1: NumPy - Array Creation Basics"
   ]
  },
  {
   "cell_type": "code",
   "execution_count": 1,
   "id": "438e2427-40ae-467a-b736-e813c5ac19b3",
   "metadata": {},
   "outputs": [
    {
     "name": "stdout",
     "output_type": "stream",
     "text": [
      "Array of Zeros:\n",
      " [[0. 0. 0.]\n",
      " [0. 0. 0.]\n",
      " [0. 0. 0.]]\n",
      "Array of Ones:\n",
      " [[1. 1.]\n",
      " [1. 1.]]\n",
      "Array with All Elements as 7:\n",
      " [[7 7]\n",
      " [7 7]]\n",
      "Array with Range of Numbers: [0 1 2 3 4 5 6 7 8 9]\n"
     ]
    }
   ],
   "source": [
    "import numpy as np\n",
    "\n",
    "# Creating arrays with different functions\n",
    "array_zeros = np.zeros((3, 3))\n",
    "array_ones = np.ones((2, 2))\n",
    "array_full = np.full((2, 2), 7)\n",
    "array_range = np.arange(10)\n",
    "\n",
    "print('Array of Zeros:\\n', array_zeros)\n",
    "print('Array of Ones:\\n', array_ones)\n",
    "print('Array with All Elements as 7:\\n', array_full)\n",
    "print('Array with Range of Numbers:', array_range)"
   ]
  },
  {
   "cell_type": "markdown",
   "id": "fb2333b2-9916-4569-8c59-d1eb20d5baa3",
   "metadata": {},
   "source": [
    "## Example 2: NumPy - 2D Array Indexing"
   ]
  },
  {
   "cell_type": "code",
   "execution_count": 2,
   "id": "192c9e8a-7c93-40a8-a08f-b785d56e43d5",
   "metadata": {},
   "outputs": [
    {
     "name": "stdout",
     "output_type": "stream",
     "text": [
      "Element at (1,2): 6\n",
      "First Row: [1 2 3]\n",
      "Second Column: [2 5 8]\n"
     ]
    }
   ],
   "source": [
    "import numpy as np\n",
    "\n",
    "# Creating a 2D array\n",
    "array_2d = np.array([[1, 2, 3], [4, 5, 6], [7, 8, 9]])\n",
    "\n",
    "# Accessing individual elements\n",
    "element = array_2d[1, 2]  # Accessing element at row 1, column 2\n",
    "\n",
    "# Slicing rows and columns\n",
    "row_slice = array_2d[0, :]  # First row\n",
    "column_slice = array_2d[:, 1]  # Second column\n",
    "\n",
    "print('Element at (1,2):', element)\n",
    "print('First Row:', row_slice)\n",
    "print('Second Column:', column_slice)"
   ]
  },
  {
   "cell_type": "markdown",
   "id": "a05bacd4-6774-4b45-b627-b10c93dd8c07",
   "metadata": {},
   "source": [
    "## Example 2: NumPy - Basic Arithmetic Operations"
   ]
  },
  {
   "cell_type": "code",
   "execution_count": 3,
   "id": "53025529-40ec-42da-8f13-f20aac7200cc",
   "metadata": {},
   "outputs": [
    {
     "name": "stdout",
     "output_type": "stream",
     "text": [
      "Added: [5 7 9]\n",
      "Subtracted: [-3 -3 -3]\n",
      "Multiplied: [ 4 10 18]\n",
      "Divided: [0.25 0.4  0.5 ]\n"
     ]
    }
   ],
   "source": [
    "import numpy as np\n",
    "\n",
    "# Creating arrays\n",
    "array1 = np.array([1, 2, 3])\n",
    "array2 = np.array([4, 5, 6])\n",
    "\n",
    "# Arithmetic operations\n",
    "added = np.add(array1, array2)\n",
    "subtracted = np.subtract(array1, array2)\n",
    "multiplied = np.multiply(array1, array2)\n",
    "divided = np.divide(array1, array2)\n",
    "\n",
    "print('Added:', added)\n",
    "print('Subtracted:', subtracted)\n",
    "print('Multiplied:', multiplied)\n",
    "print('Divided:', divided)"
   ]
  },
  {
   "cell_type": "markdown",
   "id": "05b97146-3f10-4a87-b3c9-3f2058be034a",
   "metadata": {},
   "source": [
    "## Example 3: NumPy - Power and Square Root"
   ]
  },
  {
   "cell_type": "code",
   "execution_count": 4,
   "id": "48e70fe4-786b-4bb2-92f4-9989387315e0",
   "metadata": {},
   "outputs": [
    {
     "name": "stdout",
     "output_type": "stream",
     "text": [
      "Squared Array: [  1  16  81 256]\n",
      "Square Root of Array: [1. 2. 3. 4.]\n"
     ]
    }
   ],
   "source": [
    "import numpy as np\n",
    "\n",
    "# Creating an array\n",
    "array = np.array([1, 4, 9, 16])\n",
    "\n",
    "# Power and square root\n",
    "squared = np.power(array, 2)\n",
    "sqrt = np.sqrt(array)\n",
    "\n",
    "print('Squared Array:', squared)\n",
    "print('Square Root of Array:', sqrt)"
   ]
  },
  {
   "cell_type": "markdown",
   "id": "1e7be9e2-8c0b-4998-930f-89a8277b5149",
   "metadata": {},
   "source": [
    "## Example 3: NumPy - Boolean Indexing"
   ]
  },
  {
   "cell_type": "code",
   "execution_count": 5,
   "id": "d9b837c1-b208-49c6-b04c-e992b0a68aa4",
   "metadata": {},
   "outputs": [
    {
     "name": "stdout",
     "output_type": "stream",
     "text": [
      "Elements Greater Than 20: [25 30]\n"
     ]
    }
   ],
   "source": [
    "import numpy as np\n",
    "\n",
    "# Creating an array\n",
    "array = np.array([10, 15, 20, 25, 30])\n",
    "\n",
    "# Boolean indexing\n",
    "greater_than_20 = array[array > 20]\n",
    "\n",
    "print('Elements Greater Than 20:', greater_than_20)"
   ]
  },
  {
   "cell_type": "markdown",
   "id": "031677b0-e1f8-4c43-b4a7-971114cea9b2",
   "metadata": {},
   "source": [
    "## Example 4: NumPy - Exponential and Logarithmic Functions"
   ]
  },
  {
   "cell_type": "code",
   "execution_count": 6,
   "id": "228666c3-1fb3-44a0-ae9f-b783581472c0",
   "metadata": {},
   "outputs": [
    {
     "name": "stdout",
     "output_type": "stream",
     "text": [
      "Exponential of Array: [ 2.71828183  7.3890561  20.08553692]\n",
      "Logarithm of Array: [0.         0.69314718 1.09861229]\n"
     ]
    }
   ],
   "source": [
    "import numpy as np\n",
    "\n",
    "# Creating an array\n",
    "array = np.array([1, 2, 3])\n",
    "\n",
    "# Exponential and logarithmic functions\n",
    "exp_array = np.exp(array)\n",
    "log_array = np.log(array)\n",
    "\n",
    "print('Exponential of Array:', exp_array)\n",
    "print('Logarithm of Array:', log_array)"
   ]
  },
  {
   "cell_type": "markdown",
   "id": "cdc6dd6b-369e-4770-8ceb-fb157aaabe45",
   "metadata": {},
   "source": [
    "## Example 4: NumPy - Fancy Indexing"
   ]
  },
  {
   "cell_type": "code",
   "execution_count": 7,
   "id": "addeb768-bbdd-4ac1-883d-67c4d8439526",
   "metadata": {},
   "outputs": [
    {
     "name": "stdout",
     "output_type": "stream",
     "text": [
      "Selected Elements: [20 40 50]\n"
     ]
    }
   ],
   "source": [
    "import numpy as np\n",
    "\n",
    "# Creating an array\n",
    "array = np.array([10, 20, 30, 40, 50])\n",
    "\n",
    "# Selecting specific indices\n",
    "selected_elements = array[[1, 3, 4]]\n",
    "\n",
    "print('Selected Elements:', selected_elements)"
   ]
  },
  {
   "cell_type": "markdown",
   "id": "dad8745e-b130-4955-bb65-cdf9f41eed5d",
   "metadata": {},
   "source": [
    "## Example 5: NumPy - Slicing with Step"
   ]
  },
  {
   "cell_type": "code",
   "execution_count": 8,
   "id": "bcc74139-3361-4ddf-a90b-ce7d0acd891b",
   "metadata": {},
   "outputs": [
    {
     "name": "stdout",
     "output_type": "stream",
     "text": [
      "Sliced Array with Step 2: [1 3 5 7 9]\n"
     ]
    }
   ],
   "source": [
    "import numpy as np\n",
    "\n",
    "# Creating an array\n",
    "array = np.array([1, 2, 3, 4, 5, 6, 7, 8, 9, 10])\n",
    "\n",
    "# Slicing with a step\n",
    "step_slice = array[::2]  # Every second element\n",
    "\n",
    "print('Sliced Array with Step 2:', step_slice)"
   ]
  },
  {
   "cell_type": "markdown",
   "id": "223f4982-b80e-48fe-b2d1-457417bb8f28",
   "metadata": {},
   "source": [
    "## Example 5: NumPy - Trigonometric Functions"
   ]
  },
  {
   "cell_type": "code",
   "execution_count": 9,
   "id": "4135ed92-6e16-4efa-81ed-1b62c98f8464",
   "metadata": {},
   "outputs": [
    {
     "name": "stdout",
     "output_type": "stream",
     "text": [
      "Sine of Angles: [0.0000000e+00 1.0000000e+00 1.2246468e-16]\n",
      "Cosine of Angles: [ 1.000000e+00  6.123234e-17 -1.000000e+00]\n",
      "Tangent of Angles: [ 0.00000000e+00  1.63312394e+16 -1.22464680e-16]\n"
     ]
    }
   ],
   "source": [
    "import numpy as np\n",
    "\n",
    "# Creating an array\n",
    "angles = np.array([0, np.pi/2, np.pi])\n",
    "\n",
    "# Trigonometric functions\n",
    "sin_array = np.sin(angles)\n",
    "cos_array = np.cos(angles)\n",
    "tan_array = np.tan(angles)\n",
    "\n",
    "print('Sine of Angles:', sin_array)\n",
    "print('Cosine of Angles:', cos_array)\n",
    "print('Tangent of Angles:', tan_array)"
   ]
  },
  {
   "cell_type": "markdown",
   "id": "49684fd7-64e2-4ae4-935f-2cdf1a7ae91b",
   "metadata": {},
   "source": [
    "## Example 6: NumPy - 3D Array Indexing"
   ]
  },
  {
   "cell_type": "code",
   "execution_count": 10,
   "id": "cee5b065-3731-4f87-a4d8-de17d1cd548e",
   "metadata": {},
   "outputs": [
    {
     "name": "stdout",
     "output_type": "stream",
     "text": [
      "Element at (1,0,1): 6\n",
      "Sliced 3D Array:\n",
      " [[1 2]\n",
      " [5 6]]\n"
     ]
    }
   ],
   "source": [
    "import numpy as np\n",
    "\n",
    "# Creating a 3D array\n",
    "array_3d = np.array([[[1, 2], [3, 4]], [[5, 6], [7, 8]]])\n",
    "\n",
    "# Accessing elements in a 3D array\n",
    "element = array_3d[1, 0, 1]  # Accessing the element at [1, 0, 1]\n",
    "\n",
    "# Slicing in 3D\n",
    "slice_3d = array_3d[:, 0, :]\n",
    "\n",
    "print('Element at (1,0,1):', element)\n",
    "print('Sliced 3D Array:\\n', slice_3d)"
   ]
  },
  {
   "cell_type": "markdown",
   "id": "69dd8279-ae47-477b-ba71-c599d7d7fb53",
   "metadata": {},
   "source": [
    "## Example 7: NumPy - Reshaping Arrays"
   ]
  },
  {
   "cell_type": "code",
   "execution_count": 11,
   "id": "49ebe1db-03de-497a-b1ea-ee5779368ad4",
   "metadata": {},
   "outputs": [
    {
     "name": "stdout",
     "output_type": "stream",
     "text": [
      "Original Array: [1 2 3 4 5 6]\n",
      "Reshaped Array:\n",
      " [[1 2 3]\n",
      " [4 5 6]]\n"
     ]
    }
   ],
   "source": [
    "import numpy as np\n",
    "\n",
    "# Creating an array\n",
    "array = np.array([1, 2, 3, 4, 5, 6])\n",
    "\n",
    "# Reshaping to different dimensions\n",
    "reshaped_array = array.reshape((2, 3))\n",
    "\n",
    "print('Original Array:', array)\n",
    "print('Reshaped Array:\\n', reshaped_array)"
   ]
  },
  {
   "cell_type": "markdown",
   "id": "d6ab5d9e-9546-4940-87e9-78aa101b43ef",
   "metadata": {},
   "source": [
    "## Example 7: NumPy - Indexing with Arrays"
   ]
  },
  {
   "cell_type": "code",
   "execution_count": 12,
   "id": "5f0d72f1-18cd-425c-9345-47f0977ed0ae",
   "metadata": {},
   "outputs": [
    {
     "name": "stdout",
     "output_type": "stream",
     "text": [
      "Indexed Elements: [30 50 70]\n"
     ]
    }
   ],
   "source": [
    "import numpy as np\n",
    "\n",
    "# Creating a 2D array\n",
    "array_2d = np.array([[10, 20, 30], [40, 50, 60], [70, 80, 90]])\n",
    "\n",
    "# Using arrays for indexing\n",
    "rows = np.array([0, 1, 2])\n",
    "cols = np.array([2, 1, 0])\n",
    "indexed_elements = array_2d[rows, cols]\n",
    "\n",
    "print('Indexed Elements:', indexed_elements)"
   ]
  },
  {
   "cell_type": "markdown",
   "id": "0b50f2d3-6531-4557-a663-2dc91170f283",
   "metadata": {},
   "source": [
    "## Example 8: NumPy - Transposing Arrays"
   ]
  },
  {
   "cell_type": "code",
   "execution_count": 13,
   "id": "5223031c-44d5-4b3a-aa26-824e758d4c83",
   "metadata": {},
   "outputs": [
    {
     "name": "stdout",
     "output_type": "stream",
     "text": [
      "Original Array:\n",
      " [[1 2]\n",
      " [3 4]]\n",
      "Transposed Array:\n",
      " [[1 3]\n",
      " [2 4]]\n"
     ]
    }
   ],
   "source": [
    "import numpy as np\n",
    "\n",
    "# Creating a 2D array\n",
    "array = np.array([[1, 2], [3, 4]])\n",
    "\n",
    "# Transposing the array\n",
    "transposed_array = np.transpose(array)\n",
    "\n",
    "print('Original Array:\\n', array)\n",
    "print('Transposed Array:\\n', transposed_array)"
   ]
  },
  {
   "cell_type": "markdown",
   "id": "81c8a12b-0742-419e-981e-f83cd8ad6d83",
   "metadata": {},
   "source": [
    "## Example 8: NumPy - Conditional Indexing"
   ]
  },
  {
   "cell_type": "code",
   "execution_count": 14,
   "id": "ef0907c2-43e2-49d9-9471-a84ed330b5e9",
   "metadata": {},
   "outputs": [
    {
     "name": "stdout",
     "output_type": "stream",
     "text": [
      "Array after Conditional Indexing: [ 1 -1  3 -1  5 -1]\n"
     ]
    }
   ],
   "source": [
    "import numpy as np\n",
    "\n",
    "# Creating an array\n",
    "array = np.array([1, 2, 3, 4, 5, 6])\n",
    "\n",
    "# Setting elements that satisfy a condition\n",
    "array[array % 2 == 0] = -1  # Set even numbers to -1\n",
    "\n",
    "print('Array after Conditional Indexing:', array)"
   ]
  },
  {
   "cell_type": "markdown",
   "id": "a9f5786f-8665-46d3-bf9e-55ef6b48adbb",
   "metadata": {},
   "source": [
    "## Example 9: NumPy - Multi-dimensional Slicing"
   ]
  },
  {
   "cell_type": "code",
   "execution_count": 15,
   "id": "956c3244-5467-4829-905d-07b6675b2930",
   "metadata": {},
   "outputs": [
    {
     "name": "stdout",
     "output_type": "stream",
     "text": [
      "Sub Array (Slicing Rows and Columns):\n",
      " [[ 6  7]\n",
      " [10 11]]\n"
     ]
    }
   ],
   "source": [
    "import numpy as np\n",
    "\n",
    "# Creating a 2D array\n",
    "array_2d = np.array([[1, 2, 3, 4], [5, 6, 7, 8], [9, 10, 11, 12]])\n",
    "\n",
    "# Multi-dimensional slicing\n",
    "sub_array = array_2d[1:, 1:3]\n",
    "\n",
    "print('Sub Array (Slicing Rows and Columns):\\n', sub_array)"
   ]
  },
  {
   "cell_type": "markdown",
   "id": "c6b4f1a2-68d3-49be-a3bb-ffed2c7e129b",
   "metadata": {},
   "source": [
    "## Example 9: NumPy - Broadcasting"
   ]
  },
  {
   "cell_type": "code",
   "execution_count": 16,
   "id": "2dbd86c4-4525-4e03-a361-434d8224cf4a",
   "metadata": {},
   "outputs": [
    {
     "name": "stdout",
     "output_type": "stream",
     "text": [
      "Original Array: [1 2 3]\n",
      "Array after Broadcasting: [11 12 13]\n"
     ]
    }
   ],
   "source": [
    "import numpy as np\n",
    "\n",
    "# Creating an array\n",
    "array = np.array([1, 2, 3])\n",
    "\n",
    "# Broadcasting: Adding a scalar to an array\n",
    "result = array + 10\n",
    "\n",
    "print('Original Array:', array)\n",
    "print('Array after Broadcasting:', result)"
   ]
  },
  {
   "cell_type": "markdown",
   "id": "0ecd79af-e482-43ed-995e-e7d593ec1174",
   "metadata": {},
   "source": [
    "## Example 10: NumPy - Sorting Arrays"
   ]
  },
  {
   "cell_type": "code",
   "execution_count": 17,
   "id": "cef5e8b9-c4bb-48f0-9f26-db0e9ff324a7",
   "metadata": {},
   "outputs": [
    {
     "name": "stdout",
     "output_type": "stream",
     "text": [
      "Original Array: [3 1 2 5 4]\n",
      "Sorted Array: [1 2 3 4 5]\n"
     ]
    }
   ],
   "source": [
    "import numpy as np\n",
    "\n",
    "# Creating an array\n",
    "array = np.array([3, 1, 2, 5, 4])\n",
    "\n",
    "# Sorting the array\n",
    "sorted_array = np.sort(array)\n",
    "\n",
    "print('Original Array:', array)\n",
    "print('Sorted Array:', sorted_array)"
   ]
  },
  {
   "cell_type": "markdown",
   "id": "b37dc0ba-9631-4d6a-bc08-c465b25357c9",
   "metadata": {},
   "source": [
    "## Example 10: NumPy - Modifying Array Values using Indexing"
   ]
  },
  {
   "cell_type": "code",
   "execution_count": 18,
   "id": "b0a287b8-eaa2-4a51-ac5a-2fb524f8b85a",
   "metadata": {},
   "outputs": [
    {
     "name": "stdout",
     "output_type": "stream",
     "text": [
      "Modified Array: [ 10 100  30 200  50]\n"
     ]
    }
   ],
   "source": [
    "import numpy as np\n",
    "\n",
    "# Creating an array\n",
    "array = np.array([10, 20, 30, 40, 50])\n",
    "\n",
    "# Modifying values at specific indices\n",
    "array[[1, 3]] = [100, 200]\n",
    "\n",
    "print('Modified Array:', array)"
   ]
  },
  {
   "cell_type": "markdown",
   "id": "96403b89-f8c8-47d5-8c2e-fe7fe69b7fbd",
   "metadata": {},
   "source": [
    "## Example 11: NumPy - Random Array Generation"
   ]
  },
  {
   "cell_type": "code",
   "execution_count": 19,
   "id": "6f76688e-29e2-4849-bf65-d8981967d20a",
   "metadata": {},
   "outputs": [
    {
     "name": "stdout",
     "output_type": "stream",
     "text": [
      "Random Array:\n",
      " [[0.3136285  0.43478179 0.77027879]\n",
      " [0.35569014 0.43014888 0.90129356]\n",
      " [0.56028604 0.55544435 0.11777555]]\n",
      "Normal Distribution Array:\n",
      " [[-0.28219076 -2.0768618   0.47061501]\n",
      " [ 1.43076834  0.20650981 -1.19309194]\n",
      " [-0.15219674 -0.24172882  1.49857431]]\n"
     ]
    }
   ],
   "source": [
    "import numpy as np\n",
    "\n",
    "# Generating random arrays\n",
    "random_array = np.random.rand(3, 3)  # Random values in a 3x3 array\n",
    "normal_array = np.random.randn(3, 3)  # Random values with a normal distribution\n",
    "\n",
    "print('Random Array:\\n', random_array)\n",
    "print('Normal Distribution Array:\\n', normal_array)"
   ]
  },
  {
   "cell_type": "markdown",
   "id": "9c6c36e2-3a44-483c-ab9b-1bfba4a27a81",
   "metadata": {},
   "source": [
    "## Example 11: NumPy - Indexing with Negative Indices"
   ]
  },
  {
   "cell_type": "code",
   "execution_count": 20,
   "id": "be8ae8d1-b4cf-46ee-8932-dd33fb207277",
   "metadata": {},
   "outputs": [
    {
     "name": "stdout",
     "output_type": "stream",
     "text": [
      "Last Element: 50\n",
      "Second Last Element: 40\n"
     ]
    }
   ],
   "source": [
    "import numpy as np\n",
    "\n",
    "# Creating an array\n",
    "array = np.array([10, 20, 30, 40, 50])\n",
    "\n",
    "# Accessing elements from the end using negative indices\n",
    "last_element = array[-1]\n",
    "second_last_element = array[-2]\n",
    "\n",
    "print('Last Element:', last_element)\n",
    "print('Second Last Element:', second_last_element)"
   ]
  },
  {
   "cell_type": "markdown",
   "id": "f969848b-db04-447a-992b-79fd81a12654",
   "metadata": {},
   "source": [
    "## Example 12: NumPy - Boolean Indexing"
   ]
  },
  {
   "cell_type": "code",
   "execution_count": 21,
   "id": "84603773-1c07-43ba-8c9f-8d9c2e626b02",
   "metadata": {},
   "outputs": [
    {
     "name": "stdout",
     "output_type": "stream",
     "text": [
      "Original Array: [1 2 3 4 5 6]\n",
      "Even Numbers: [2 4 6]\n"
     ]
    }
   ],
   "source": [
    "import numpy as np\n",
    "\n",
    "# Creating an array\n",
    "array = np.array([1, 2, 3, 4, 5, 6])\n",
    "\n",
    "# Boolean indexing\n",
    "even_numbers = array[array % 2 == 0]\n",
    "\n",
    "print('Original Array:', array)\n",
    "print('Even Numbers:', even_numbers)"
   ]
  },
  {
   "cell_type": "markdown",
   "id": "ab7c54e7-f934-46de-b864-ce6b4a68d0de",
   "metadata": {},
   "source": [
    "## Example 12: NumPy - Combining Boolean and Fancy Indexing"
   ]
  },
  {
   "cell_type": "code",
   "execution_count": 22,
   "id": "679ed2db-29e2-409c-8d20-c8d31955a1ad",
   "metadata": {},
   "outputs": [
    {
     "name": "stdout",
     "output_type": "stream",
     "text": [
      "Combined Boolean and Fancy Indexing Result: [15 25]\n"
     ]
    }
   ],
   "source": [
    "import numpy as np\n",
    "\n",
    "# Creating an array\n",
    "array = np.array([10, 15, 20, 25, 30])\n",
    "\n",
    "# Boolean condition combined with specific indices\n",
    "result = array[(array > 10) & (array < 30)][[0, 2]]\n",
    "\n",
    "print('Combined Boolean and Fancy Indexing Result:', result)"
   ]
  },
  {
   "cell_type": "markdown",
   "id": "fee6115d-2783-4cc0-b06d-d5378a49d8ba",
   "metadata": {},
   "source": [
    "## Example 13: NumPy - Statistical Functions"
   ]
  },
  {
   "cell_type": "code",
   "execution_count": 23,
   "id": "e4e7f3ab-9bcd-4fa0-ac7b-d87b6f22d816",
   "metadata": {},
   "outputs": [
    {
     "name": "stdout",
     "output_type": "stream",
     "text": [
      "Mean: 3.0\n",
      "Median: 3.0\n",
      "Standard Deviation: 1.4142135623730951\n",
      "Variance: 2.0\n"
     ]
    }
   ],
   "source": [
    "import numpy as np\n",
    "\n",
    "# Creating an array\n",
    "array = np.array([1, 2, 3, 4, 5])\n",
    "\n",
    "# Calculating statistical values\n",
    "mean = np.mean(array)\n",
    "median = np.median(array)\n",
    "std_dev = np.std(array)\n",
    "variance = np.var(array)\n",
    "\n",
    "print('Mean:', mean)\n",
    "print('Median:', median)\n",
    "print('Standard Deviation:', std_dev)\n",
    "print('Variance:', variance)"
   ]
  },
  {
   "cell_type": "markdown",
   "id": "9b4de40c-05f2-463e-8dd2-a94b06eb4757",
   "metadata": {},
   "source": [
    "## Example 13: NumPy - Indexing Multi-dimensional Arrays with Slices"
   ]
  },
  {
   "cell_type": "code",
   "execution_count": 24,
   "id": "8d7e9112-c3d6-4fc4-8626-9e28418d3ae7",
   "metadata": {},
   "outputs": [
    {
     "name": "stdout",
     "output_type": "stream",
     "text": [
      "Selected Slice:\n",
      " [[ 5  6]\n",
      " [ 9 10]]\n"
     ]
    }
   ],
   "source": [
    "import numpy as np\n",
    "\n",
    "# Creating a 3x4 array\n",
    "array_2d = np.array([[1, 2, 3, 4], [5, 6, 7, 8], [9, 10, 11, 12]])\n",
    "\n",
    "# Selecting specific rows and columns using slices\n",
    "selected_slice = array_2d[1:, :2]\n",
    "\n",
    "print('Selected Slice:\\n', selected_slice)"
   ]
  },
  {
   "cell_type": "markdown",
   "id": "29a0042f-4155-4735-8962-fbbb72e90fd3",
   "metadata": {},
   "source": [
    "## Example 14: NumPy - Using Ellipsis (...) in Indexing"
   ]
  },
  {
   "cell_type": "code",
   "execution_count": 25,
   "id": "a6c626ec-a08e-453d-9410-2f81e84636ad",
   "metadata": {},
   "outputs": [
    {
     "name": "stdout",
     "output_type": "stream",
     "text": [
      "Result using Ellipsis (...):\n",
      " [[ 2  4]\n",
      " [ 6  8]\n",
      " [10 12]]\n"
     ]
    }
   ],
   "source": [
    "import numpy as np\n",
    "\n",
    "# Creating a 3D array\n",
    "array_3d = np.array([[[1, 2], [3, 4]], [[5, 6], [7, 8]], [[9, 10], [11, 12]]])\n",
    "\n",
    "# Using ellipsis to select all elements along specific axes\n",
    "result = array_3d[..., 1]  # Selecting the second column in each 2D slice\n",
    "\n",
    "print('Result using Ellipsis (...):\\n', result)"
   ]
  },
  {
   "cell_type": "markdown",
   "id": "d7d4e69d-0ca3-4e58-b3c9-85f463ed2743",
   "metadata": {},
   "source": [
    "## Example 14: NumPy - Unique Elements and Counting"
   ]
  },
  {
   "cell_type": "code",
   "execution_count": 26,
   "id": "e47db8d5-49e9-4ea4-a3f2-225c240e50f7",
   "metadata": {},
   "outputs": [
    {
     "name": "stdout",
     "output_type": "stream",
     "text": [
      "Unique Elements: [1 2 3 4 5]\n",
      "Counts of Unique Elements: [1 2 1 3 1]\n"
     ]
    }
   ],
   "source": [
    "import numpy as np\n",
    "\n",
    "# Creating an array with duplicate values\n",
    "array = np.array([1, 2, 2, 3, 4, 4, 4, 5])\n",
    "\n",
    "# Finding unique elements and their counts\n",
    "unique_elements, counts = np.unique(array, return_counts=True)\n",
    "\n",
    "print('Unique Elements:', unique_elements)\n",
    "print('Counts of Unique Elements:', counts)"
   ]
  },
  {
   "cell_type": "markdown",
   "id": "0ae4d836-b0b7-4245-a09d-dc7710514996",
   "metadata": {},
   "source": [
    "## Example 15: NumPy - Masked Indexing"
   ]
  },
  {
   "cell_type": "code",
   "execution_count": 27,
   "id": "334b01ad-aba2-4791-b139-42af57982166",
   "metadata": {},
   "outputs": [
    {
     "name": "stdout",
     "output_type": "stream",
     "text": [
      "Positive Values: [1 3 5]\n"
     ]
    }
   ],
   "source": [
    "import numpy as np\n",
    "\n",
    "# Creating an array\n",
    "array = np.array([1, -2, 3, -4, 5])\n",
    "\n",
    "# Creating a mask for positive values\n",
    "mask = array > 0\n",
    "\n",
    "# Applying mask to get only positive values\n",
    "positive_values = array[mask]\n",
    "\n",
    "print('Positive Values:', positive_values)"
   ]
  },
  {
   "cell_type": "markdown",
   "id": "d032012f-bb54-4d4c-86d6-597aad229340",
   "metadata": {},
   "source": [
    "## Example 16: NumPy - Splitting Arrays"
   ]
  },
  {
   "cell_type": "code",
   "execution_count": 28,
   "id": "d9c2dad9-0b69-49f8-be23-438b8dca1047",
   "metadata": {},
   "outputs": [
    {
     "name": "stdout",
     "output_type": "stream",
     "text": [
      "Split Arrays: [array([1, 2]), array([3, 4]), array([5, 6])]\n"
     ]
    }
   ],
   "source": [
    "import numpy as np\n",
    "\n",
    "# Creating an array\n",
    "array = np.array([1, 2, 3, 4, 5, 6])\n",
    "\n",
    "# Splitting the array into three parts\n",
    "split_arrays = np.array_split(array, 3)\n",
    "\n",
    "print('Split Arrays:', split_arrays)"
   ]
  },
  {
   "cell_type": "markdown",
   "id": "dc090c73-3773-464e-8fd8-ff03647cdca8",
   "metadata": {},
   "source": [
    "## Example 16: NumPy - Extracting Diagonal Elements"
   ]
  },
  {
   "cell_type": "code",
   "execution_count": 29,
   "id": "7fa4eaf8-02c8-4ba5-ac4d-78111900d61e",
   "metadata": {},
   "outputs": [
    {
     "name": "stdout",
     "output_type": "stream",
     "text": [
      "Diagonal Elements: [1 5 9]\n"
     ]
    }
   ],
   "source": [
    "import numpy as np\n",
    "\n",
    "# Creating a square matrix\n",
    "matrix = np.array([[1, 2, 3], [4, 5, 6], [7, 8, 9]])\n",
    "\n",
    "# Extracting the main diagonal\n",
    "diagonal_elements = np.diag(matrix)\n",
    "\n",
    "print('Diagonal Elements:', diagonal_elements)"
   ]
  },
  {
   "cell_type": "markdown",
   "id": "701e5b12-15e9-4431-89e3-ce463489851d",
   "metadata": {},
   "source": [
    "## Example 17: NumPy - Linear Space Array"
   ]
  },
  {
   "cell_type": "code",
   "execution_count": 30,
   "id": "e8fa3797-e8d4-4de5-9bd9-67cb538b7010",
   "metadata": {},
   "outputs": [
    {
     "name": "stdout",
     "output_type": "stream",
     "text": [
      "Linear Space Array: [ 0.   2.5  5.   7.5 10. ]\n"
     ]
    }
   ],
   "source": [
    "import numpy as np\n",
    "\n",
    "# Generating a linear space array with evenly spaced values\n",
    "linear_space = np.linspace(0, 10, 5)\n",
    "\n",
    "print('Linear Space Array:', linear_space)"
   ]
  },
  {
   "cell_type": "markdown",
   "id": "d238f6bc-169e-431c-84ad-d4b1d0fd9afa",
   "metadata": {},
   "source": [
    "## Example 17: NumPy - Indexing with np.where()"
   ]
  },
  {
   "cell_type": "code",
   "execution_count": 31,
   "id": "840fbfe3-c453-4c2d-8f00-fd18728534db",
   "metadata": {},
   "outputs": [
    {
     "name": "stdout",
     "output_type": "stream",
     "text": [
      "Indices where elements > 25: (array([2, 3, 4], dtype=int64),)\n",
      "Values where elements > 25: [30 40 50]\n"
     ]
    }
   ],
   "source": [
    "import numpy as np\n",
    "\n",
    "# Creating an array\n",
    "array = np.array([10, 20, 30, 40, 50])\n",
    "\n",
    "# Using np.where to find indices where elements are greater than 25\n",
    "indices = np.where(array > 25)\n",
    "\n",
    "print('Indices where elements > 25:', indices)\n",
    "print('Values where elements > 25:', array[indices])"
   ]
  },
  {
   "cell_type": "markdown",
   "id": "5815027f-231d-42fa-9879-780cbdaa8f6c",
   "metadata": {},
   "source": [
    "## Example 18: NumPy - Meshgrid Creation"
   ]
  },
  {
   "cell_type": "code",
   "execution_count": 32,
   "id": "409e3e80-218d-4de5-8ea5-c1dbe16000dd",
   "metadata": {},
   "outputs": [
    {
     "name": "stdout",
     "output_type": "stream",
     "text": [
      "Meshgrid X:\n",
      " [[1 2 3]\n",
      " [1 2 3]\n",
      " [1 2 3]]\n",
      "Meshgrid Y:\n",
      " [[4 4 4]\n",
      " [5 5 5]\n",
      " [6 6 6]]\n"
     ]
    }
   ],
   "source": [
    "import numpy as np\n",
    "\n",
    "# Creating 1D arrays\n",
    "x = np.array([1, 2, 3])\n",
    "y = np.array([4, 5, 6])\n",
    "\n",
    "# Creating a meshgrid\n",
    "X, Y = np.meshgrid(x, y)\n",
    "\n",
    "print('Meshgrid X:\\n', X)\n",
    "print('Meshgrid Y:\\n', Y)"
   ]
  },
  {
   "cell_type": "markdown",
   "id": "9d632554-10e3-4b7e-ae5d-81073d6db889",
   "metadata": {},
   "source": [
    "## Example 18: NumPy - Advanced Slicing with Step in 2D Array"
   ]
  },
  {
   "cell_type": "code",
   "execution_count": 33,
   "id": "35fc3f0b-22f4-4660-a450-776e32fd9422",
   "metadata": {},
   "outputs": [
    {
     "name": "stdout",
     "output_type": "stream",
     "text": [
      "Advanced Sliced Array with Step:\n",
      " [[ 1  3]\n",
      " [ 9 11]]\n"
     ]
    }
   ],
   "source": [
    "import numpy as np\n",
    "\n",
    "# Creating a 2D array\n",
    "array_2d = np.array([[1, 2, 3, 4], [5, 6, 7, 8], [9, 10, 11, 12]])\n",
    "\n",
    "# Slicing every second element in rows and columns\n",
    "result = array_2d[::2, ::2]\n",
    "\n",
    "print('Advanced Sliced Array with Step:\\n', result)"
   ]
  },
  {
   "cell_type": "markdown",
   "id": "cd5e5fad-0c91-44fb-8999-963708eb73ce",
   "metadata": {},
   "source": [
    "## Example 19: NumPy - Clipping Array Values"
   ]
  },
  {
   "cell_type": "code",
   "execution_count": 34,
   "id": "8d17dd6d-138f-4bea-a837-a1a5785ea0fb",
   "metadata": {},
   "outputs": [
    {
     "name": "stdout",
     "output_type": "stream",
     "text": [
      "Original Array: [1 2 3 4 5]\n",
      "Clipped Array: [2 2 3 4 4]\n"
     ]
    }
   ],
   "source": [
    "import numpy as np\n",
    "\n",
    "# Creating an array\n",
    "array = np.array([1, 2, 3, 4, 5])\n",
    "\n",
    "# Clipping values to be between 2 and 4\n",
    "clipped_array = np.clip(array, 2, 4)\n",
    "\n",
    "print('Original Array:', array)\n",
    "print('Clipped Array:', clipped_array)"
   ]
  },
  {
   "cell_type": "markdown",
   "id": "92752f3a-1f4e-4903-a1a6-a627c0750c32",
   "metadata": {},
   "source": [
    "## Example 19: NumPy - Setting Values Using Indexing"
   ]
  },
  {
   "cell_type": "code",
   "execution_count": 35,
   "id": "b6311732-2e4c-4e4b-abaa-fbb98d7f20e0",
   "metadata": {},
   "outputs": [
    {
     "name": "stdout",
     "output_type": "stream",
     "text": [
      "Array after Setting Values: [  1 100   3 200   5]\n"
     ]
    }
   ],
   "source": [
    "import numpy as np\n",
    "\n",
    "# Creating an array\n",
    "array = np.array([1, 2, 3, 4, 5])\n",
    "\n",
    "# Setting specific values using indexing\n",
    "array[[1, 3]] = [100, 200]\n",
    "\n",
    "print('Array after Setting Values:', array)"
   ]
  },
  {
   "cell_type": "markdown",
   "id": "734e6bfa-7e93-4ee3-b81e-80eb508d3a40",
   "metadata": {},
   "source": [
    "## Example 20: NumPy - Cumulative Sum and Product"
   ]
  },
  {
   "cell_type": "code",
   "execution_count": 36,
   "id": "7fd5cb32-912e-4068-962a-f16227208d1c",
   "metadata": {},
   "outputs": [
    {
     "name": "stdout",
     "output_type": "stream",
     "text": [
      "Cumulative Sum: [ 1  3  6 10]\n",
      "Cumulative Product: [ 1  2  6 24]\n"
     ]
    }
   ],
   "source": [
    "import numpy as np\n",
    "\n",
    "# Creating an array\n",
    "array = np.array([1, 2, 3, 4])\n",
    "\n",
    "# Calculating cumulative sum and product\n",
    "cumulative_sum = np.cumsum(array)\n",
    "cumulative_product = np.cumprod(array)\n",
    "\n",
    "print('Cumulative Sum:', cumulative_sum)\n",
    "print('Cumulative Product:', cumulative_product)"
   ]
  },
  {
   "cell_type": "markdown",
   "id": "8dd30eed-0cb2-4887-8d33-04a28d987a5f",
   "metadata": {},
   "source": [
    "## Example 20: NumPy - Extracting Upper Triangle of a Matrix"
   ]
  },
  {
   "cell_type": "code",
   "execution_count": 37,
   "id": "6e747d00-ad79-494f-bb7f-7d55649ba440",
   "metadata": {},
   "outputs": [
    {
     "name": "stdout",
     "output_type": "stream",
     "text": [
      "Upper Triangle of the Matrix:\n",
      " [[1 2 3]\n",
      " [0 5 6]\n",
      " [0 0 9]]\n"
     ]
    }
   ],
   "source": [
    "import numpy as np\n",
    "\n",
    "# Creating a square matrix\n",
    "matrix = np.array([[1, 2, 3], [4, 5, 6], [7, 8, 9]])\n",
    "\n",
    "# Extracting the upper triangle (above the main diagonal)\n",
    "upper_triangle = np.triu(matrix)\n",
    "\n",
    "print('Upper Triangle of the Matrix:\\n', upper_triangle)"
   ]
  },
  {
   "cell_type": "markdown",
   "id": "52fc9585-3c09-4295-a310-37a5d0338b89",
   "metadata": {},
   "source": [
    "## Example 21: NumPy - Reverse Array using Indexing"
   ]
  },
  {
   "cell_type": "code",
   "execution_count": 38,
   "id": "9c620c88-fbbf-4042-b2de-a60c14bea5c4",
   "metadata": {},
   "outputs": [
    {
     "name": "stdout",
     "output_type": "stream",
     "text": [
      "Reversed Array: [5 4 3 2 1]\n"
     ]
    }
   ],
   "source": [
    "import numpy as np\n",
    "\n",
    "# Creating an array\n",
    "array = np.array([1, 2, 3, 4, 5])\n",
    "\n",
    "# Reversing the array using slicing\n",
    "reversed_array = array[::-1]\n",
    "\n",
    "print('Reversed Array:', reversed_array)"
   ]
  },
  {
   "cell_type": "markdown",
   "id": "4a6b1bbd-222d-46c2-85a6-048c7baf45ce",
   "metadata": {},
   "source": [
    "## Example 22: NumPy - Extract Lower Triangle of a Matrix"
   ]
  },
  {
   "cell_type": "code",
   "execution_count": 39,
   "id": "38775a70-8b70-45c0-888d-6566070c3d7f",
   "metadata": {},
   "outputs": [
    {
     "name": "stdout",
     "output_type": "stream",
     "text": [
      "Lower Triangle of the Matrix:\n",
      " [[1 0 0]\n",
      " [4 5 0]\n",
      " [7 8 9]]\n"
     ]
    }
   ],
   "source": [
    "import numpy as np\n",
    "\n",
    "# Creating a square matrix\n",
    "matrix = np.array([[1, 2, 3], [4, 5, 6], [7, 8, 9]])\n",
    "\n",
    "# Extracting the lower triangle (below the main diagonal)\n",
    "lower_triangle = np.tril(matrix)\n",
    "\n",
    "print('Lower Triangle of the Matrix:\\n', lower_triangle)"
   ]
  },
  {
   "cell_type": "markdown",
   "id": "afa979e1-042c-420c-895f-11767c62c282",
   "metadata": {},
   "source": [
    "## Example 23: NumPy - Multi-dimensional Array Indexing with Mixed Types"
   ]
  },
  {
   "cell_type": "code",
   "execution_count": 40,
   "id": "83412bcf-1c07-4890-9006-5bb5f447a89a",
   "metadata": {},
   "outputs": [
    {
     "name": "stdout",
     "output_type": "stream",
     "text": [
      "Mixed Type Indexing Result: [ 6 10]\n"
     ]
    }
   ],
   "source": [
    "import numpy as np\n",
    "\n",
    "# Creating a 3D array\n",
    "array_3d = np.array([[[1, 2], [3, 4]], [[5, 6], [7, 8]], [[9, 10], [11, 12]]])\n",
    "\n",
    "# Mixing slicing with direct indexing\n",
    "mixed_index = array_3d[1:, 0, 1]\n",
    "\n",
    "print('Mixed Type Indexing Result:', mixed_index)"
   ]
  },
  {
   "cell_type": "markdown",
   "id": "523cb840-9be8-48de-a818-e5ae9ff5fdd8",
   "metadata": {},
   "source": [
    "## Example 24: NumPy - Indexing with np.take"
   ]
  },
  {
   "cell_type": "code",
   "execution_count": 41,
   "id": "0095553b-e63f-4b03-84b2-ab97eff62114",
   "metadata": {},
   "outputs": [
    {
     "name": "stdout",
     "output_type": "stream",
     "text": [
      "Selected Elements using np.take: [10 30 50]\n"
     ]
    }
   ],
   "source": [
    "import numpy as np\n",
    "\n",
    "# Creating an array\n",
    "array = np.array([10, 20, 30, 40, 50])\n",
    "\n",
    "# Using np.take to select elements at specific indices\n",
    "indices = [0, 2, 4]\n",
    "result = np.take(array, indices)\n",
    "\n",
    "print('Selected Elements using np.take:', result)"
   ]
  },
  {
   "cell_type": "markdown",
   "id": "c6fc7189-2402-4c53-a41b-786ace7e056e",
   "metadata": {},
   "source": [
    "## Example 25: NumPy - Masked Indexing with np.ma.masked_where"
   ]
  },
  {
   "cell_type": "code",
   "execution_count": 42,
   "id": "f117f961-0928-4206-a02a-e94800c67e66",
   "metadata": {},
   "outputs": [
    {
     "name": "stdout",
     "output_type": "stream",
     "text": [
      "Masked Array with Negative Values Hidden: [1 -- 3 -- 5]\n"
     ]
    }
   ],
   "source": [
    "import numpy as np\n",
    "\n",
    "# Creating an array\n",
    "array = np.array([1, -2, 3, -4, 5])\n",
    "\n",
    "# Masking elements where values are negative\n",
    "masked_array = np.ma.masked_where(array < 0, array)\n",
    "\n",
    "print('Masked Array with Negative Values Hidden:', masked_array)"
   ]
  },
  {
   "cell_type": "markdown",
   "id": "04f18447-4557-4a93-a54c-3fa39a326d65",
   "metadata": {},
   "source": [
    "## Example 26: NumPy - Flattening a Multi-dimensional Array"
   ]
  },
  {
   "cell_type": "code",
   "execution_count": 43,
   "id": "32423deb-db72-4af3-807a-6c2e20a3eca3",
   "metadata": {},
   "outputs": [
    {
     "name": "stdout",
     "output_type": "stream",
     "text": [
      "Flattened Array: [1 2 3 4 5 6]\n"
     ]
    }
   ],
   "source": [
    "import numpy as np\n",
    "\n",
    "# Creating a 2D array\n",
    "array_2d = np.array([[1, 2, 3], [4, 5, 6]])\n",
    "\n",
    "# Flattening the array\n",
    "flattened_array = array_2d.flatten()\n",
    "\n",
    "print('Flattened Array:', flattened_array)"
   ]
  },
  {
   "cell_type": "markdown",
   "id": "5e946473-85cd-4794-b94b-3cdd3f5003f3",
   "metadata": {},
   "source": [
    "## Example 27: NumPy - Advanced Indexing with Meshgrid"
   ]
  },
  {
   "cell_type": "code",
   "execution_count": 44,
   "id": "e3d5aefc-6e83-46c5-9c29-7089e0f65388",
   "metadata": {},
   "outputs": [
    {
     "name": "stdout",
     "output_type": "stream",
     "text": [
      "Indices for Meshgrid Advanced Indexing:\n",
      " [[1 2 3 1 2 3]\n",
      " [4 4 4 5 5 5]]\n"
     ]
    }
   ],
   "source": [
    "import numpy as np\n",
    "\n",
    "# Creating 1D arrays\n",
    "x = np.array([1, 2, 3])\n",
    "y = np.array([4, 5])\n",
    "\n",
    "# Creating meshgrid for advanced indexing\n",
    "X, Y = np.meshgrid(x, y)\n",
    "indices = np.vstack([X.ravel(), Y.ravel()])\n",
    "\n",
    "print('Indices for Meshgrid Advanced Indexing:\\n', indices)"
   ]
  },
  {
   "cell_type": "markdown",
   "id": "d36becdb-3d7e-486d-b8ec-23c8e190c63e",
   "metadata": {},
   "source": [
    "## Example 28: NumPy - Conditional Replacement with np.where"
   ]
  },
  {
   "cell_type": "code",
   "execution_count": 45,
   "id": "4d3621cc-a369-4a2d-9f1d-f936a22e220f",
   "metadata": {},
   "outputs": [
    {
     "name": "stdout",
     "output_type": "stream",
     "text": [
      "Array with Values Greater Than 20 Replaced with 0: [10 15 20  0  0]\n"
     ]
    }
   ],
   "source": [
    "import numpy as np\n",
    "\n",
    "# Creating an array\n",
    "array = np.array([10, 15, 20, 25, 30])\n",
    "\n",
    "# Replacing values based on condition\n",
    "result = np.where(array > 20, 0, array)\n",
    "\n",
    "print('Array with Values Greater Than 20 Replaced with 0:', result)"
   ]
  },
  {
   "cell_type": "markdown",
   "id": "7a6870c3-bcf0-4b53-9f76-487469195a93",
   "metadata": {},
   "source": [
    "## Example 29: NumPy - Using np.choose for Multiple Conditions"
   ]
  },
  {
   "cell_type": "code",
   "execution_count": 46,
   "id": "01a2802e-0b2e-4cb6-b9b2-390bcfce3db5",
   "metadata": {},
   "outputs": [
    {
     "ename": "ValueError",
     "evalue": "invalid entry in choice array",
     "output_type": "error",
     "traceback": [
      "\u001b[1;31m---------------------------------------------------------------------------\u001b[0m",
      "\u001b[1;31mValueError\u001b[0m                                Traceback (most recent call last)",
      "Cell \u001b[1;32mIn[46], line 8\u001b[0m\n\u001b[0;32m      5\u001b[0m choices \u001b[38;5;241m=\u001b[39m [array\u001b[38;5;241m*\u001b[39m\u001b[38;5;241m2\u001b[39m, array\u001b[38;5;241m+\u001b[39m\u001b[38;5;241m10\u001b[39m, array\u001b[38;5;241m*\u001b[39m\u001b[38;5;241m*\u001b[39m\u001b[38;5;241m2\u001b[39m]\n\u001b[0;32m      7\u001b[0m \u001b[38;5;66;03m# Using np.choose to apply different conditions\u001b[39;00m\n\u001b[1;32m----> 8\u001b[0m result \u001b[38;5;241m=\u001b[39m np\u001b[38;5;241m.\u001b[39mchoose(array, choices)\n\u001b[0;32m     10\u001b[0m \u001b[38;5;28mprint\u001b[39m(\u001b[38;5;124m'\u001b[39m\u001b[38;5;124mResult using np.choose:\u001b[39m\u001b[38;5;124m'\u001b[39m, result)\n",
      "File \u001b[1;32m~\\AppData\\Local\\anaconda3\\Lib\\site-packages\\numpy\\core\\fromnumeric.py:416\u001b[0m, in \u001b[0;36mchoose\u001b[1;34m(a, choices, out, mode)\u001b[0m\n\u001b[0;32m    294\u001b[0m \u001b[38;5;129m@array_function_dispatch\u001b[39m(_choose_dispatcher)\n\u001b[0;32m    295\u001b[0m \u001b[38;5;28;01mdef\u001b[39;00m \u001b[38;5;21mchoose\u001b[39m(a, choices, out\u001b[38;5;241m=\u001b[39m\u001b[38;5;28;01mNone\u001b[39;00m, mode\u001b[38;5;241m=\u001b[39m\u001b[38;5;124m'\u001b[39m\u001b[38;5;124mraise\u001b[39m\u001b[38;5;124m'\u001b[39m):\n\u001b[0;32m    296\u001b[0m \u001b[38;5;250m    \u001b[39m\u001b[38;5;124;03m\"\"\"\u001b[39;00m\n\u001b[0;32m    297\u001b[0m \u001b[38;5;124;03m    Construct an array from an index array and a list of arrays to choose from.\u001b[39;00m\n\u001b[0;32m    298\u001b[0m \n\u001b[1;32m   (...)\u001b[0m\n\u001b[0;32m    414\u001b[0m \n\u001b[0;32m    415\u001b[0m \u001b[38;5;124;03m    \"\"\"\u001b[39;00m\n\u001b[1;32m--> 416\u001b[0m     \u001b[38;5;28;01mreturn\u001b[39;00m _wrapfunc(a, \u001b[38;5;124m'\u001b[39m\u001b[38;5;124mchoose\u001b[39m\u001b[38;5;124m'\u001b[39m, choices, out\u001b[38;5;241m=\u001b[39mout, mode\u001b[38;5;241m=\u001b[39mmode)\n",
      "File \u001b[1;32m~\\AppData\\Local\\anaconda3\\Lib\\site-packages\\numpy\\core\\fromnumeric.py:59\u001b[0m, in \u001b[0;36m_wrapfunc\u001b[1;34m(obj, method, *args, **kwds)\u001b[0m\n\u001b[0;32m     56\u001b[0m     \u001b[38;5;28;01mreturn\u001b[39;00m _wrapit(obj, method, \u001b[38;5;241m*\u001b[39margs, \u001b[38;5;241m*\u001b[39m\u001b[38;5;241m*\u001b[39mkwds)\n\u001b[0;32m     58\u001b[0m \u001b[38;5;28;01mtry\u001b[39;00m:\n\u001b[1;32m---> 59\u001b[0m     \u001b[38;5;28;01mreturn\u001b[39;00m bound(\u001b[38;5;241m*\u001b[39margs, \u001b[38;5;241m*\u001b[39m\u001b[38;5;241m*\u001b[39mkwds)\n\u001b[0;32m     60\u001b[0m \u001b[38;5;28;01mexcept\u001b[39;00m \u001b[38;5;167;01mTypeError\u001b[39;00m:\n\u001b[0;32m     61\u001b[0m     \u001b[38;5;66;03m# A TypeError occurs if the object does have such a method in its\u001b[39;00m\n\u001b[0;32m     62\u001b[0m     \u001b[38;5;66;03m# class, but its signature is not identical to that of NumPy's. This\u001b[39;00m\n\u001b[1;32m   (...)\u001b[0m\n\u001b[0;32m     66\u001b[0m     \u001b[38;5;66;03m# Call _wrapit from within the except clause to ensure a potential\u001b[39;00m\n\u001b[0;32m     67\u001b[0m     \u001b[38;5;66;03m# exception has a traceback chain.\u001b[39;00m\n\u001b[0;32m     68\u001b[0m     \u001b[38;5;28;01mreturn\u001b[39;00m _wrapit(obj, method, \u001b[38;5;241m*\u001b[39margs, \u001b[38;5;241m*\u001b[39m\u001b[38;5;241m*\u001b[39mkwds)\n",
      "\u001b[1;31mValueError\u001b[0m: invalid entry in choice array"
     ]
    }
   ],
   "source": [
    "import numpy as np\n",
    "\n",
    "# Creating arrays for conditions\n",
    "array = np.array([0, 1, 2, 3])\n",
    "choices = [array*2, array+10, array**2]\n",
    "\n",
    "# Using np.choose to apply different conditions\n",
    "result = np.choose(array, choices)\n",
    "\n",
    "print('Result using np.choose:', result)"
   ]
  },
  {
   "cell_type": "markdown",
   "id": "243cbcaa-886b-4e62-944b-d3417cbf4c26",
   "metadata": {},
   "source": [
    "## Example 30: NumPy - Combining Multiple Indexing Techniques"
   ]
  },
  {
   "cell_type": "code",
   "execution_count": 47,
   "id": "7acfe1da-a0ed-45b7-a82f-d45787388cba",
   "metadata": {},
   "outputs": [
    {
     "ename": "IndexError",
     "evalue": "too many indices for array: array is 1-dimensional, but 2 were indexed",
     "output_type": "error",
     "traceback": [
      "\u001b[1;31m---------------------------------------------------------------------------\u001b[0m",
      "\u001b[1;31mIndexError\u001b[0m                                Traceback (most recent call last)",
      "Cell \u001b[1;32mIn[47], line 7\u001b[0m\n\u001b[0;32m      4\u001b[0m array_2d \u001b[38;5;241m=\u001b[39m np\u001b[38;5;241m.\u001b[39marray([[\u001b[38;5;241m10\u001b[39m, \u001b[38;5;241m20\u001b[39m, \u001b[38;5;241m30\u001b[39m], [\u001b[38;5;241m40\u001b[39m, \u001b[38;5;241m50\u001b[39m, \u001b[38;5;241m60\u001b[39m], [\u001b[38;5;241m70\u001b[39m, \u001b[38;5;241m80\u001b[39m, \u001b[38;5;241m90\u001b[39m]])\n\u001b[0;32m      6\u001b[0m \u001b[38;5;66;03m# Combining boolean, fancy, and slice indexing\u001b[39;00m\n\u001b[1;32m----> 7\u001b[0m result \u001b[38;5;241m=\u001b[39m array_2d[array_2d \u001b[38;5;241m>\u001b[39m \u001b[38;5;241m30\u001b[39m][:, [\u001b[38;5;241m0\u001b[39m, \u001b[38;5;241m2\u001b[39m]]\n\u001b[0;32m      9\u001b[0m \u001b[38;5;28mprint\u001b[39m(\u001b[38;5;124m'\u001b[39m\u001b[38;5;124mCombined Indexing Result:\u001b[39m\u001b[38;5;124m'\u001b[39m, result)\n",
      "\u001b[1;31mIndexError\u001b[0m: too many indices for array: array is 1-dimensional, but 2 were indexed"
     ]
    }
   ],
   "source": [
    "import numpy as np\n",
    "\n",
    "# Creating a 2D array\n",
    "array_2d = np.array([[10, 20, 30], [40, 50, 60], [70, 80, 90]])\n",
    "\n",
    "# Combining boolean, fancy, and slice indexing\n",
    "result = array_2d[array_2d > 30][:, [0, 2]]\n",
    "\n",
    "print('Combined Indexing Result:', result)"
   ]
  },
  {
   "cell_type": "code",
   "execution_count": null,
   "id": "92523ff9-4099-4314-a3f8-62158d862397",
   "metadata": {},
   "outputs": [],
   "source": []
  }
 ],
 "metadata": {
  "kernelspec": {
   "display_name": "Python 3 (ipykernel)",
   "language": "python",
   "name": "python3"
  },
  "language_info": {
   "codemirror_mode": {
    "name": "ipython",
    "version": 3
   },
   "file_extension": ".py",
   "mimetype": "text/x-python",
   "name": "python",
   "nbconvert_exporter": "python",
   "pygments_lexer": "ipython3",
   "version": "3.12.4"
  }
 },
 "nbformat": 4,
 "nbformat_minor": 5
}
